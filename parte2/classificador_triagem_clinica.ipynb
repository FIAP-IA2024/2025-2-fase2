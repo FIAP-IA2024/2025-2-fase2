{
 "cells": [
  {
   "cell_type": "markdown",
   "id": "8b062d4c",
   "metadata": {},
   "source": [
    "\n",
    "# Classificador de Risco de Sintomas (Triagem Clínica)\n",
    "Este notebook constrói um **classificador binário** que analisa frases com sintomas e classifica o nível de risco como **“baixo risco”** ou **“alto risco”**.\n",
    "\n",
    "**Pipeline em alto nível:**\n",
    "1. Carrega o dataset CSV de frases rotuladas.\n",
    "2. Pré-processa e filtra as classes de interesse.\n",
    "3. Transforma texto em vetores com **TF‑IDF**.\n",
    "4. Treina um modelo de **Regressão Logística**.\n",
    "5. Avalia o desempenho (acurácia, relatório de classificação, matriz de confusão).\n",
    "6. Testa frases novas e inspeciona erros para observar padrões/distorções.\n"
   ]
  },
  {
   "cell_type": "markdown",
   "id": "c1371f90",
   "metadata": {},
   "source": [
    "\n",
    "## (Opcional) Instalação de dependências\n",
    "> Execute **apenas se necessário** no seu ambiente local (ex.: Google Colab).  \n",
    "Se as bibliotecas já estiverem disponíveis, podemos **pular** esta etapa.\n"
   ]
  },
  {
   "cell_type": "code",
   "execution_count": 1,
   "id": "ae677173",
   "metadata": {},
   "outputs": [
    {
     "name": "stdout",
     "output_type": "stream",
     "text": [
      "Note: you may need to restart the kernel to use updated packages.\n"
     ]
    }
   ],
   "source": [
    "\n",
    "# Descomente se precisar instalar\n",
    "%pip install -q scikit-learn pandas matplotlib\n"
   ]
  },
  {
   "cell_type": "markdown",
   "id": "6f3d2502",
   "metadata": {},
   "source": [
    "\n",
    "## Imports e configuração\n"
   ]
  },
  {
   "cell_type": "code",
   "execution_count": 2,
   "id": "509a6115",
   "metadata": {},
   "outputs": [],
   "source": [
    "\n",
    "import pandas as pd\n",
    "import numpy as np\n",
    "from pathlib import Path\n",
    "\n",
    "from sklearn.feature_extraction.text import TfidfVectorizer\n",
    "from sklearn.model_selection import train_test_split\n",
    "from sklearn.linear_model import LogisticRegression\n",
    "from sklearn.metrics import (\n",
    "    accuracy_score,\n",
    "    classification_report,\n",
    "    confusion_matrix,\n",
    "    roc_auc_score\n",
    ")\n",
    "\n",
    "import matplotlib.pyplot as plt\n",
    "\n",
    "RANDOM_STATE = 42\n"
   ]
  },
  {
   "cell_type": "markdown",
   "id": "be2afbd6",
   "metadata": {},
   "source": [
    "\n",
    "## Carga do dataset com as frases rotuladas\n",
    "- O arquivo `frases_medicas_rotuladas.csv` precisa estar **na mesma pasta** deste notebook **ou** para funcionar!\n"
   ]
  },
  {
   "cell_type": "code",
   "execution_count": 3,
   "id": "221047e7",
   "metadata": {},
   "outputs": [
    {
     "name": "stdout",
     "output_type": "stream",
     "text": [
      "Linhas: 400\n"
     ]
    },
    {
     "data": {
      "text/html": [
       "<div>\n",
       "<style scoped>\n",
       "    .dataframe tbody tr th:only-of-type {\n",
       "        vertical-align: middle;\n",
       "    }\n",
       "\n",
       "    .dataframe tbody tr th {\n",
       "        vertical-align: top;\n",
       "    }\n",
       "\n",
       "    .dataframe thead th {\n",
       "        text-align: right;\n",
       "    }\n",
       "</style>\n",
       "<table border=\"1\" class=\"dataframe\">\n",
       "  <thead>\n",
       "    <tr style=\"text-align: right;\">\n",
       "      <th></th>\n",
       "      <th>frase</th>\n",
       "      <th>situacao</th>\n",
       "    </tr>\n",
       "  </thead>\n",
       "  <tbody>\n",
       "    <tr>\n",
       "      <th>0</th>\n",
       "      <td>nos últimos dias tive febre alta e calafrios f...</td>\n",
       "      <td>alto risco</td>\n",
       "    </tr>\n",
       "    <tr>\n",
       "      <th>1</th>\n",
       "      <td>hoje sinto dor no peito e falta de ar desde cedo</td>\n",
       "      <td>alto risco</td>\n",
       "    </tr>\n",
       "    <tr>\n",
       "      <th>2</th>\n",
       "      <td>hoje me sinto cansado mas sem dor e estou preo...</td>\n",
       "      <td>baixo risco</td>\n",
       "    </tr>\n",
       "    <tr>\n",
       "      <th>3</th>\n",
       "      <td>ultimamente estou com sangramento intenso</td>\n",
       "      <td>alto risco</td>\n",
       "    </tr>\n",
       "    <tr>\n",
       "      <th>4</th>\n",
       "      <td>sinto dor de cabeça leve ocasionalmente e pior...</td>\n",
       "      <td>baixo risco</td>\n",
       "    </tr>\n",
       "  </tbody>\n",
       "</table>\n",
       "</div>"
      ],
      "text/plain": [
       "                                               frase     situacao\n",
       "0  nos últimos dias tive febre alta e calafrios f...   alto risco\n",
       "1   hoje sinto dor no peito e falta de ar desde cedo   alto risco\n",
       "2  hoje me sinto cansado mas sem dor e estou preo...  baixo risco\n",
       "3          ultimamente estou com sangramento intenso   alto risco\n",
       "4  sinto dor de cabeça leve ocasionalmente e pior...  baixo risco"
      ]
     },
     "execution_count": 3,
     "metadata": {},
     "output_type": "execute_result"
    }
   ],
   "source": [
    "df = pd.read_csv(Path('frases_medicas_rotuladas.csv'))\n",
    "print(f\"Linhas: {len(df)}\")\n",
    "df.head()\n"
   ]
  },
  {
   "cell_type": "code",
   "execution_count": 4,
   "id": "9b096e0b",
   "metadata": {},
   "outputs": [
    {
     "name": "stdout",
     "output_type": "stream",
     "text": [
      "Distribuição de classes:\n",
      "situacao\n",
      "alto risco     200\n",
      "baixo risco    200\n",
      "Name: count, dtype: int64\n"
     ]
    },
    {
     "data": {
      "text/html": [
       "<div>\n",
       "<style scoped>\n",
       "    .dataframe tbody tr th:only-of-type {\n",
       "        vertical-align: middle;\n",
       "    }\n",
       "\n",
       "    .dataframe tbody tr th {\n",
       "        vertical-align: top;\n",
       "    }\n",
       "\n",
       "    .dataframe thead th {\n",
       "        text-align: right;\n",
       "    }\n",
       "</style>\n",
       "<table border=\"1\" class=\"dataframe\">\n",
       "  <thead>\n",
       "    <tr style=\"text-align: right;\">\n",
       "      <th></th>\n",
       "      <th>frase</th>\n",
       "      <th>situacao</th>\n",
       "    </tr>\n",
       "  </thead>\n",
       "  <tbody>\n",
       "    <tr>\n",
       "      <th>209</th>\n",
       "      <td>ultimamente tenho dor leve nas articulações ma...</td>\n",
       "      <td>baixo risco</td>\n",
       "    </tr>\n",
       "    <tr>\n",
       "      <th>280</th>\n",
       "      <td>tenho dor leve nas articulações desde cedo</td>\n",
       "      <td>baixo risco</td>\n",
       "    </tr>\n",
       "    <tr>\n",
       "      <th>33</th>\n",
       "      <td>ultimamente tive febre baixa durante a noite</td>\n",
       "      <td>baixo risco</td>\n",
       "    </tr>\n",
       "    <tr>\n",
       "      <th>210</th>\n",
       "      <td>hoje tive dificuldade para respirar subitament...</td>\n",
       "      <td>alto risco</td>\n",
       "    </tr>\n",
       "    <tr>\n",
       "      <th>93</th>\n",
       "      <td>hoje tive visão turva e tontura súbita</td>\n",
       "      <td>alto risco</td>\n",
       "    </tr>\n",
       "  </tbody>\n",
       "</table>\n",
       "</div>"
      ],
      "text/plain": [
       "                                                 frase     situacao\n",
       "209  ultimamente tenho dor leve nas articulações ma...  baixo risco\n",
       "280         tenho dor leve nas articulações desde cedo  baixo risco\n",
       "33        ultimamente tive febre baixa durante a noite  baixo risco\n",
       "210  hoje tive dificuldade para respirar subitament...   alto risco\n",
       "93              hoje tive visão turva e tontura súbita   alto risco"
      ]
     },
     "execution_count": 4,
     "metadata": {},
     "output_type": "execute_result"
    }
   ],
   "source": [
    "\n",
    "df = df[df[\"situacao\"].isin([\"baixo risco\", \"alto risco\"])].copy()\n",
    "df[\"situacao\"] = df[\"situacao\"].astype(str)\n",
    "\n",
    "print(\"Distribuição de classes:\")\n",
    "print(df[\"situacao\"].value_counts())\n",
    "\n",
    "df.sample(min(5, len(df)), random_state=RANDOM_STATE)\n"
   ]
  },
  {
   "cell_type": "markdown",
   "id": "3694a7f3",
   "metadata": {},
   "source": [
    "\n",
    "## Divisão do dataset em treino e teste (antes da vetorização)\n",
    "Dividimos **texto cru** para preservar os índices e facilitar análises posteriores de erros.\n"
   ]
  },
  {
   "cell_type": "code",
   "execution_count": 5,
   "id": "11327751",
   "metadata": {},
   "outputs": [
    {
     "data": {
      "text/plain": [
       "(280, 120)"
      ]
     },
     "execution_count": 5,
     "metadata": {},
     "output_type": "execute_result"
    }
   ],
   "source": [
    "\n",
    "X_text = df[\"frase\"].astype(str)\n",
    "y = df[\"situacao\"]\n",
    "\n",
    "X_train_text, X_test_text, y_train, y_test = train_test_split(\n",
    "    X_text, y, test_size=0.30, random_state=RANDOM_STATE, stratify=y\n",
    ")\n",
    "\n",
    "len(X_train_text), len(X_test_text)\n"
   ]
  },
  {
   "cell_type": "markdown",
   "id": "858a2ba1",
   "metadata": {},
   "source": [
    "\n",
    "## Vetorização com TF‑IDF\n",
    "Utilizamos **TF‑IDF** para converter texto em vetores numéricos. O uso de **unigramas e bigramas** captura termos e pequenas expressões (ex.: *\"dor no peito\"*).\n"
   ]
  },
  {
   "cell_type": "code",
   "execution_count": 6,
   "id": "d93e96f3",
   "metadata": {},
   "outputs": [
    {
     "data": {
      "text/plain": [
       "((280, 270), (120, 270))"
      ]
     },
     "execution_count": 6,
     "metadata": {},
     "output_type": "execute_result"
    }
   ],
   "source": [
    "\n",
    "vectorizer = TfidfVectorizer(lowercase=True, ngram_range=(1, 2))\n",
    "X_train = vectorizer.fit_transform(X_train_text)\n",
    "X_test = vectorizer.transform(X_test_text)\n",
    "\n",
    "X_train.shape, X_test.shape\n"
   ]
  },
  {
   "cell_type": "markdown",
   "id": "998ed479",
   "metadata": {},
   "source": [
    "\n",
    "## Modelo escolhido: Regressão Logística\n",
    "**Por que Regressão Logística?**\n",
    "- Problema **binário** (alto vs baixo risco) — a RL é uma escolha clássica e eficiente.\n",
    "- É rápida de treinar e fornece **probabilidades**, úteis para triagem (priorizar casos mais prováveis de alto risco).\n",
    "- Árvores de decisão podem superajustar em textos curtos; SVM e Naive Bayes também são boas alternativas, mas mantemos a RL pela **simplicidade, desempenho e interpretabilidade**.\n"
   ]
  },
  {
   "cell_type": "code",
   "execution_count": 7,
   "id": "aa099c9b",
   "metadata": {},
   "outputs": [
    {
     "name": "stdout",
     "output_type": "stream",
     "text": [
      "Acurácia: 1.000\n",
      "\n",
      "Relatório de classificação:\n",
      "              precision    recall  f1-score   support\n",
      "\n",
      "  alto risco      1.000     1.000     1.000        60\n",
      " baixo risco      1.000     1.000     1.000        60\n",
      "\n",
      "    accuracy                          1.000       120\n",
      "   macro avg      1.000     1.000     1.000       120\n",
      "weighted avg      1.000     1.000     1.000       120\n",
      "\n"
     ]
    }
   ],
   "source": [
    "\n",
    "model = LogisticRegression(max_iter=1000, random_state=RANDOM_STATE)\n",
    "model.fit(X_train, y_train)\n",
    "\n",
    "# Predições e probabilidades\n",
    "y_pred = model.predict(X_test)\n",
    "\n",
    "# Índice da classe 'alto risco' no vetor de probabilidades\n",
    "idx_alto = list(model.classes_).index(\"alto risco\")\n",
    "y_proba_alto = model.predict_proba(X_test)[:, idx_alto]\n",
    "\n",
    "acc = accuracy_score(y_test, y_pred)\n",
    "print(f\"Acurácia: {acc:.3f}\\n\")\n",
    "print(\"Relatório de classificação:\")\n",
    "print(classification_report(y_test, y_pred, digits=3))\n"
   ]
  },
  {
   "cell_type": "markdown",
   "id": "88a6a28f",
   "metadata": {},
   "source": [
    "\n",
    "## Matriz de Confusão\n",
    "A matriz nos ajuda a entender **acertos** e **erros** por classe.\n"
   ]
  },
  {
   "cell_type": "code",
   "execution_count": 8,
   "id": "2ec59791",
   "metadata": {},
   "outputs": [
    {
     "data": {
      "text/plain": [
       "array([[60,  0],\n",
       "       [ 0, 60]])"
      ]
     },
     "execution_count": 8,
     "metadata": {},
     "output_type": "execute_result"
    }
   ],
   "source": [
    "\n",
    "cm = confusion_matrix(y_test, y_pred, labels=model.classes_)\n",
    "cm\n"
   ]
  },
  {
   "cell_type": "code",
   "execution_count": 9,
   "id": "d15603ae",
   "metadata": {},
   "outputs": [
    {
     "data": {
      "image/png": "[encoded data removed]",
      "text/plain": [
       "<Figure size 400x400 with 1 Axes>"
      ]
     },
     "metadata": {},
     "output_type": "display_data"
    }
   ],
   "source": [
    "\n",
    "# Plot simples (sem estilos/cores específicas)\n",
    "fig, ax = plt.subplots(figsize=(4, 4))\n",
    "im = ax.imshow(cm)  # não especificar cmap\n",
    "ax.set_xticks(range(len(model.classes_)))\n",
    "ax.set_yticks(range(len(model.classes_)))\n",
    "ax.set_xticklabels(model.classes_, rotation=45, ha=\"right\")\n",
    "ax.set_yticklabels(model.classes_)\n",
    "\n",
    "# Anotações nos blocos\n",
    "for i in range(cm.shape[0]):\n",
    "    for j in range(cm.shape[1]):\n",
    "        ax.text(j, i, int(cm[i, j]), ha=\"center\", va=\"center\")\n",
    "\n",
    "ax.set_xlabel(\"Previsto\")\n",
    "ax.set_ylabel(\"Verdadeiro\")\n",
    "ax.set_title(\"Matriz de Confusão\")\n",
    "plt.tight_layout()\n",
    "plt.show()\n"
   ]
  },
  {
   "cell_type": "markdown",
   "id": "08fc5279",
   "metadata": {},
   "source": [
    "\n",
    "## Inspeção de erros e possíveis padrões\n",
    "Juntamos as frases de teste, rótulos verdadeiros, predições e a probabilidade de **alto risco** para inspecionar **falsos positivos/negativos**.\n"
   ]
  },
  {
   "cell_type": "code",
   "execution_count": 10,
   "id": "df834448",
   "metadata": {},
   "outputs": [
    {
     "name": "stdout",
     "output_type": "stream",
     "text": [
      "Total de erros: 0\n"
     ]
    },
    {
     "data": {
      "text/html": [
       "<div>\n",
       "<style scoped>\n",
       "    .dataframe tbody tr th:only-of-type {\n",
       "        vertical-align: middle;\n",
       "    }\n",
       "\n",
       "    .dataframe tbody tr th {\n",
       "        vertical-align: top;\n",
       "    }\n",
       "\n",
       "    .dataframe thead th {\n",
       "        text-align: right;\n",
       "    }\n",
       "</style>\n",
       "<table border=\"1\" class=\"dataframe\">\n",
       "  <thead>\n",
       "    <tr style=\"text-align: right;\">\n",
       "      <th></th>\n",
       "      <th>frase</th>\n",
       "      <th>verdadeiro</th>\n",
       "      <th>previsto</th>\n",
       "      <th>prob_alto_risco</th>\n",
       "    </tr>\n",
       "  </thead>\n",
       "  <tbody>\n",
       "    <tr>\n",
       "      <th>44</th>\n",
       "      <td>sinto dor de cabeça leve ocasionalmente e pior...</td>\n",
       "      <td>baixo risco</td>\n",
       "      <td>baixo risco</td>\n",
       "      <td>0.134264</td>\n",
       "    </tr>\n",
       "    <tr>\n",
       "      <th>47</th>\n",
       "      <td>nos últimos dias tive um leve incômodo nas cos...</td>\n",
       "      <td>baixo risco</td>\n",
       "      <td>baixo risco</td>\n",
       "      <td>0.179730</td>\n",
       "    </tr>\n",
       "    <tr>\n",
       "      <th>4</th>\n",
       "      <td>ultimamente estou com coriza e espirros</td>\n",
       "      <td>baixo risco</td>\n",
       "      <td>baixo risco</td>\n",
       "      <td>0.199231</td>\n",
       "    </tr>\n",
       "    <tr>\n",
       "      <th>55</th>\n",
       "      <td>desde ontem tenho tosse seca sem febre mas sem...</td>\n",
       "      <td>baixo risco</td>\n",
       "      <td>baixo risco</td>\n",
       "      <td>0.153851</td>\n",
       "    </tr>\n",
       "    <tr>\n",
       "      <th>26</th>\n",
       "      <td>nos últimos dias tive um leve incômodo nas cos...</td>\n",
       "      <td>baixo risco</td>\n",
       "      <td>baixo risco</td>\n",
       "      <td>0.167418</td>\n",
       "    </tr>\n",
       "    <tr>\n",
       "      <th>64</th>\n",
       "      <td>hoje me sinto cansado mas sem dor e piorou agora</td>\n",
       "      <td>baixo risco</td>\n",
       "      <td>baixo risco</td>\n",
       "      <td>0.204414</td>\n",
       "    </tr>\n",
       "    <tr>\n",
       "      <th>73</th>\n",
       "      <td>estou com sangramento intenso e piorou agora</td>\n",
       "      <td>alto risco</td>\n",
       "      <td>alto risco</td>\n",
       "      <td>0.791784</td>\n",
       "    </tr>\n",
       "    <tr>\n",
       "      <th>10</th>\n",
       "      <td>tive febre baixa durante a noite desde cedo</td>\n",
       "      <td>baixo risco</td>\n",
       "      <td>baixo risco</td>\n",
       "      <td>0.170305</td>\n",
       "    </tr>\n",
       "    <tr>\n",
       "      <th>40</th>\n",
       "      <td>desde ontem sinto leve dor de garganta mas sem...</td>\n",
       "      <td>baixo risco</td>\n",
       "      <td>baixo risco</td>\n",
       "      <td>0.169203</td>\n",
       "    </tr>\n",
       "    <tr>\n",
       "      <th>107</th>\n",
       "      <td>sinto dor abdominal forte e náusea mas sem out...</td>\n",
       "      <td>alto risco</td>\n",
       "      <td>alto risco</td>\n",
       "      <td>0.809663</td>\n",
       "    </tr>\n",
       "  </tbody>\n",
       "</table>\n",
       "</div>"
      ],
      "text/plain": [
       "                                                 frase   verdadeiro  \\\n",
       "44   sinto dor de cabeça leve ocasionalmente e pior...  baixo risco   \n",
       "47   nos últimos dias tive um leve incômodo nas cos...  baixo risco   \n",
       "4              ultimamente estou com coriza e espirros  baixo risco   \n",
       "55   desde ontem tenho tosse seca sem febre mas sem...  baixo risco   \n",
       "26   nos últimos dias tive um leve incômodo nas cos...  baixo risco   \n",
       "64    hoje me sinto cansado mas sem dor e piorou agora  baixo risco   \n",
       "73        estou com sangramento intenso e piorou agora   alto risco   \n",
       "10         tive febre baixa durante a noite desde cedo  baixo risco   \n",
       "40   desde ontem sinto leve dor de garganta mas sem...  baixo risco   \n",
       "107  sinto dor abdominal forte e náusea mas sem out...   alto risco   \n",
       "\n",
       "        previsto  prob_alto_risco  \n",
       "44   baixo risco         0.134264  \n",
       "47   baixo risco         0.179730  \n",
       "4    baixo risco         0.199231  \n",
       "55   baixo risco         0.153851  \n",
       "26   baixo risco         0.167418  \n",
       "64   baixo risco         0.204414  \n",
       "73    alto risco         0.791784  \n",
       "10   baixo risco         0.170305  \n",
       "40   baixo risco         0.169203  \n",
       "107   alto risco         0.809663  "
      ]
     },
     "execution_count": 10,
     "metadata": {},
     "output_type": "execute_result"
    }
   ],
   "source": [
    "\n",
    "resultados = pd.DataFrame({\n",
    "    \"frase\": X_test_text.values,\n",
    "    \"verdadeiro\": y_test.values,\n",
    "    \"previsto\": y_pred,\n",
    "    \"prob_alto_risco\": y_proba_alto\n",
    "})\n",
    "\n",
    "# Erros\n",
    "erros = resultados[resultados[\"verdadeiro\"] != resultados[\"previsto\"]]\n",
    "print(\"Total de erros:\", len(erros))\n",
    "resultados.sample(10, random_state=RANDOM_STATE)\n"
   ]
  },
  {
   "cell_type": "code",
   "execution_count": 11,
   "id": "7a60b7ff",
   "metadata": {},
   "outputs": [
    {
     "data": {
      "text/plain": [
       "'Nenhum erro encontrado.'"
      ]
     },
     "execution_count": 11,
     "metadata": {},
     "output_type": "execute_result"
    }
   ],
   "source": [
    "\n",
    "# Visualizar apenas os erros (se houver)\n",
    "erros if len(erros) else \"Nenhum erro encontrado.\"\n"
   ]
  },
  {
   "cell_type": "markdown",
   "id": "4ed06bb9",
   "metadata": {},
   "source": [
    "\n",
    "## Testes com frases novas (exemplos)\n"
   ]
  },
  {
   "cell_type": "code",
   "execution_count": 12,
   "id": "3ec5c2fa",
   "metadata": {},
   "outputs": [
    {
     "name": "stdout",
     "output_type": "stream",
     "text": [
      "\"sinto dor no peito e falta de ar\" -> alto risco (prob_alto_risco=0.82)\n",
      "\"tive uma leve dor de cabeça\" -> baixo risco (prob_alto_risco=0.15)\n",
      "\"vômito com sangue e tontura\" -> alto risco (prob_alto_risco=0.60)\n",
      "\"pressão no peito ao subir escadas\" -> alto risco (prob_alto_risco=0.77)\n"
     ]
    }
   ],
   "source": [
    "\n",
    "novas_frases = [\n",
    "    \"sinto dor no peito e falta de ar\",\n",
    "    \"tive uma leve dor de cabeça\",\n",
    "    \"vômito com sangue e tontura\",\n",
    "    \"pressão no peito ao subir escadas\",\n",
    "]\n",
    "\n",
    "X_new = vectorizer.transform(novas_frases)\n",
    "pred_new = model.predict(X_new)\n",
    "proba_new = model.predict_proba(X_new)[:, idx_alto]\n",
    "\n",
    "for frase, pred, p in zip(novas_frases, pred_new, proba_new):\n",
    "    print(f'\"{frase}\" -> {pred} (prob_alto_risco={p:.2f})')\n"
   ]
  },
  {
   "cell_type": "markdown",
   "id": "a0e2d62d",
   "metadata": {},
   "source": [
    "\n",
    "## (Opcional) Salvar modelo e vetorizador\n",
    "Caso queira reutilizar o classificador sem re-treinar.\n"
   ]
  },
  {
   "cell_type": "code",
   "execution_count": null,
   "id": "aea5fb02",
   "metadata": {},
   "outputs": [],
   "source": [
    "\n",
    "# from joblib import dump\n",
    "# dump(model, \"modelo_triagem_logreg.pkl\")\n",
    "# dump(vectorizer, \"tfidf_vectorizer.pkl\")\n",
    "# print(\"Artefatos salvos no diretório do notebook.\")\n"
   ]
  },
  {
   "cell_type": "markdown",
   "id": "331a49b4",
   "metadata": {},
   "source": [
    "\n",
    "## Conclusões e próximos passos\n",
    "- **Tamanho/qualidade do dataset** impacta fortemente o desempenho — Não está muito claro para nós como definir um tamanho ideal de base para uma solução de produção, tendo em vista que uma base muito pequena não fornece amostragem suficiente para o modelo, enquanto uma base muito grande pode enviesar/viciar o modelo durante o treinamento, obtendo resultados \"perfeitos\", tendo em vista que todas as combinações possíveis de frases de sintomas já teriam sido utilizadas. Aqui foram utilizadas frases geradas pelo ChatGPT, e revisadas superficialmente. Porém, o ideal seria trabalhar com uma base de dados real, com relatos reais de pacientes.\n",
    "\n",
    "- Considerar **balancear classes** (ex.: `class_weight='balanced'` na Regressão Logística) quando houver desbalanceamento, o que não foi o caso aqui, mas pode ser necessário em bases reais.\n",
    "\n",
    "- Avaliar alternativas como **Naive Bayes** e **SVM** para comparação. Como o enunciado da atividade não pede uma comparação direta entre diferentes modelos, optamos por não fazer, mas esse seria um passo extra interessante, a fim de avaliar como cada modelo desempenharia nesse mesmo cenário.\n"
   ]
  }
 ],
 "metadata": {
  "kernelspec": {
   "display_name": "venv",
   "language": "python",
   "name": "python3"
  },
  "language_info": {
   "codemirror_mode": {
    "name": "ipython",
    "version": 3
   },
   "file_extension": ".py",
   "mimetype": "text/x-python",
   "name": "python",
   "nbconvert_exporter": "python",
   "pygments_lexer": "ipython3",
   "version": "3.13.7"
  }
 },
 "nbformat": 4,
 "nbformat_minor": 5
}

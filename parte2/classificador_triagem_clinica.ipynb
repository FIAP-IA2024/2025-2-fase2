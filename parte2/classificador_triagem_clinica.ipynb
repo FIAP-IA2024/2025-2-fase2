{
 "cells": [
  {
   "cell_type": "markdown",
   "id": "8b062d4c",
   "metadata": {},
   "source": [
    "\n",
    "# Classificador de Risco de Sintomas (Triagem Clínica)\n",
    "Este notebook constrói um **classificador binário** que analisa frases com sintomas e classifica o nível de risco como **“baixo risco”**, **\"médio risco”** ou **“alto risco”**.\n",
    "\n",
    "**Pipeline em alto nível:**\n",
    "1. Carrega o dataset CSV de frases rotuladas.\n",
    "2. Pré-processa e filtra as classes de interesse.\n",
    "3. Transforma texto em vetores com **TF‑IDF**.\n",
    "4. Treina um modelo de **Regressão Logística**.\n",
    "5. Avalia o desempenho (acurácia, relatório de classificação, matriz de confusão).\n",
    "6. Testa frases novas e inspeciona erros para observar padrões/distorções.\n"
   ]
  },
  {
   "cell_type": "markdown",
   "id": "c1371f90",
   "metadata": {},
   "source": [
    "\n",
    "## 1) (Opcional) Instalação de dependências\n",
    "> Execute **apenas se necessário** no seu ambiente local (ex.: Google Colab).  \n",
    "Se as bibliotecas já estiverem disponíveis, você pode **pular** esta etapa.\n"
   ]
  },
  {
   "cell_type": "code",
   "execution_count": null,
   "id": "ae677173",
   "metadata": {},
   "outputs": [],
   "source": [
    "\n",
    "# Descomente se precisar instalar\n",
    "%pip install -q scikit-learn pandas matplotlib\n"
   ]
  },
  {
   "cell_type": "markdown",
   "id": "6f3d2502",
   "metadata": {},
   "source": [
    "\n",
    "## 2) Imports e configuração\n"
   ]
  },
  {
   "cell_type": "code",
   "execution_count": 26,
   "id": "509a6115",
   "metadata": {},
   "outputs": [],
   "source": [
    "\n",
    "import pandas as pd\n",
    "import numpy as np\n",
    "from pathlib import Path\n",
    "\n",
    "from sklearn.feature_extraction.text import TfidfVectorizer\n",
    "from sklearn.model_selection import train_test_split\n",
    "from sklearn.linear_model import LogisticRegression\n",
    "from sklearn.metrics import (\n",
    "    accuracy_score,\n",
    "    classification_report,\n",
    "    confusion_matrix,\n",
    "    roc_auc_score\n",
    ")\n",
    "\n",
    "import matplotlib.pyplot as plt\n",
    "\n",
    "RANDOM_STATE = 42\n"
   ]
  },
  {
   "cell_type": "markdown",
   "id": "be2afbd6",
   "metadata": {},
   "source": [
    "\n",
    "## 3) Carregar o CSV com as frases rotuladas\n",
    "- O arquivo `frases_medicas_rotuladas.csv` precisa estar **na mesma pasta** deste notebook **ou** para funcionar!\n"
   ]
  },
  {
   "cell_type": "code",
   "execution_count": 27,
   "id": "221047e7",
   "metadata": {},
   "outputs": [
    {
     "name": "stdout",
     "output_type": "stream",
     "text": [
      "Linhas: 49\n"
     ]
    },
    {
     "data": {
      "text/html": [
       "<div>\n",
       "<style scoped>\n",
       "    .dataframe tbody tr th:only-of-type {\n",
       "        vertical-align: middle;\n",
       "    }\n",
       "\n",
       "    .dataframe tbody tr th {\n",
       "        vertical-align: top;\n",
       "    }\n",
       "\n",
       "    .dataframe thead th {\n",
       "        text-align: right;\n",
       "    }\n",
       "</style>\n",
       "<table border=\"1\" class=\"dataframe\">\n",
       "  <thead>\n",
       "    <tr style=\"text-align: right;\">\n",
       "      <th></th>\n",
       "      <th>frase</th>\n",
       "      <th>situacao</th>\n",
       "    </tr>\n",
       "  </thead>\n",
       "  <tbody>\n",
       "    <tr>\n",
       "      <th>0</th>\n",
       "      <td>sinto dor no peito e falta de ar</td>\n",
       "      <td>alto risco</td>\n",
       "    </tr>\n",
       "    <tr>\n",
       "      <th>1</th>\n",
       "      <td>tive um leve incômodo nas costas</td>\n",
       "      <td>baixo risco</td>\n",
       "    </tr>\n",
       "    <tr>\n",
       "      <th>2</th>\n",
       "      <td>tive febre baixa durante a noite</td>\n",
       "      <td>médio risco</td>\n",
       "    </tr>\n",
       "    <tr>\n",
       "      <th>3</th>\n",
       "      <td>estou com tontura e visão turva</td>\n",
       "      <td>alto risco</td>\n",
       "    </tr>\n",
       "    <tr>\n",
       "      <th>4</th>\n",
       "      <td>acordei com dor de cabeça leve</td>\n",
       "      <td>baixo risco</td>\n",
       "    </tr>\n",
       "  </tbody>\n",
       "</table>\n",
       "</div>"
      ],
      "text/plain": [
       "                              frase     situacao\n",
       "0  sinto dor no peito e falta de ar   alto risco\n",
       "1  tive um leve incômodo nas costas  baixo risco\n",
       "2  tive febre baixa durante a noite  médio risco\n",
       "3   estou com tontura e visão turva   alto risco\n",
       "4    acordei com dor de cabeça leve  baixo risco"
      ]
     },
     "execution_count": 27,
     "metadata": {},
     "output_type": "execute_result"
    }
   ],
   "source": [
    "df = pd.read_csv(Path('frases_medicas_rotuladas.csv'))\n",
    "print(f\"Linhas: {len(df)}\")\n",
    "df.head()\n"
   ]
  },
  {
   "cell_type": "markdown",
   "id": "acc0326c",
   "metadata": {},
   "source": [
    "\n",
    "## 4) Filtrar as classes de interesse e visão geral\n",
    "Preparamos um dataset que contém 3 classes distintas: **“baixo risco”, \"médio risco\" e “alto risco”**, de maneira distribuída para evitar enviesamento do modelo.\n"
   ]
  },
  {
   "cell_type": "code",
   "execution_count": 28,
   "id": "9b096e0b",
   "metadata": {},
   "outputs": [
    {
     "name": "stdout",
     "output_type": "stream",
     "text": [
      "Distribuição de classes:\n",
      "situacao\n",
      "alto risco     18\n",
      "médio risco    18\n",
      "baixo risco    13\n",
      "Name: count, dtype: int64\n"
     ]
    },
    {
     "data": {
      "text/html": [
       "<div>\n",
       "<style scoped>\n",
       "    .dataframe tbody tr th:only-of-type {\n",
       "        vertical-align: middle;\n",
       "    }\n",
       "\n",
       "    .dataframe tbody tr th {\n",
       "        vertical-align: top;\n",
       "    }\n",
       "\n",
       "    .dataframe thead th {\n",
       "        text-align: right;\n",
       "    }\n",
       "</style>\n",
       "<table border=\"1\" class=\"dataframe\">\n",
       "  <thead>\n",
       "    <tr style=\"text-align: right;\">\n",
       "      <th></th>\n",
       "      <th>frase</th>\n",
       "      <th>situacao</th>\n",
       "    </tr>\n",
       "  </thead>\n",
       "  <tbody>\n",
       "    <tr>\n",
       "      <th>13</th>\n",
       "      <td>sinto dor ao urinar</td>\n",
       "      <td>médio risco</td>\n",
       "    </tr>\n",
       "    <tr>\n",
       "      <th>45</th>\n",
       "      <td>sinto dor abdominal intensa</td>\n",
       "      <td>alto risco</td>\n",
       "    </tr>\n",
       "    <tr>\n",
       "      <th>47</th>\n",
       "      <td>sinto calafrios leves</td>\n",
       "      <td>médio risco</td>\n",
       "    </tr>\n",
       "    <tr>\n",
       "      <th>44</th>\n",
       "      <td>tenho dor forte nas costas</td>\n",
       "      <td>médio risco</td>\n",
       "    </tr>\n",
       "    <tr>\n",
       "      <th>17</th>\n",
       "      <td>tenho coceira leve na pele</td>\n",
       "      <td>baixo risco</td>\n",
       "    </tr>\n",
       "  </tbody>\n",
       "</table>\n",
       "</div>"
      ],
      "text/plain": [
       "                          frase     situacao\n",
       "13          sinto dor ao urinar  médio risco\n",
       "45  sinto dor abdominal intensa   alto risco\n",
       "47        sinto calafrios leves  médio risco\n",
       "44   tenho dor forte nas costas  médio risco\n",
       "17   tenho coceira leve na pele  baixo risco"
      ]
     },
     "execution_count": 28,
     "metadata": {},
     "output_type": "execute_result"
    }
   ],
   "source": [
    "\n",
    "df = df[df[\"situacao\"].isin([\"baixo risco\", \"alto risco\", \"médio risco\"])].copy()\n",
    "df[\"situacao\"] = df[\"situacao\"].astype(str)\n",
    "\n",
    "print(\"Distribuição de classes:\")\n",
    "print(df[\"situacao\"].value_counts())\n",
    "\n",
    "df.sample(min(5, len(df)), random_state=RANDOM_STATE)\n"
   ]
  },
  {
   "cell_type": "markdown",
   "id": "3694a7f3",
   "metadata": {},
   "source": [
    "\n",
    "## 5) Dividir em treino e teste (antes da vetorização)\n",
    "Dividimos **texto cru** para preservar os índices e facilitar análises posteriores de erros.\n"
   ]
  },
  {
   "cell_type": "code",
   "execution_count": 29,
   "id": "11327751",
   "metadata": {},
   "outputs": [
    {
     "data": {
      "text/plain": [
       "(34, 15)"
      ]
     },
     "execution_count": 29,
     "metadata": {},
     "output_type": "execute_result"
    }
   ],
   "source": [
    "\n",
    "X_text = df[\"frase\"].astype(str)\n",
    "y = df[\"situacao\"]\n",
    "\n",
    "X_train_text, X_test_text, y_train, y_test = train_test_split(\n",
    "    X_text, y, test_size=0.30, random_state=RANDOM_STATE, stratify=y\n",
    ")\n",
    "\n",
    "len(X_train_text), len(X_test_text)\n"
   ]
  },
  {
   "cell_type": "markdown",
   "id": "858a2ba1",
   "metadata": {},
   "source": [
    "\n",
    "## 6) Vetorização com TF‑IDF\n",
    "Utilizamos **TF‑IDF** para converter texto em vetores numéricos. O uso de **unigramas e bigramas** captura termos e pequenas expressões (ex.: *\"dor no peito\"*).\n"
   ]
  },
  {
   "cell_type": "code",
   "execution_count": 30,
   "id": "d93e96f3",
   "metadata": {},
   "outputs": [
    {
     "data": {
      "text/plain": [
       "((34, 203), (15, 203))"
      ]
     },
     "execution_count": 30,
     "metadata": {},
     "output_type": "execute_result"
    }
   ],
   "source": [
    "\n",
    "vectorizer = TfidfVectorizer(lowercase=True, ngram_range=(1, 2))\n",
    "X_train = vectorizer.fit_transform(X_train_text)\n",
    "X_test = vectorizer.transform(X_test_text)\n",
    "\n",
    "X_train.shape, X_test.shape\n"
   ]
  },
  {
   "cell_type": "markdown",
   "id": "998ed479",
   "metadata": {},
   "source": [
    "\n",
    "## 7) Modelo escolhido: Regressão Logística\n",
    "**Por que Regressão Logística?**\n",
    "- Problema **binário** (alto vs baixo risco) — a RL é uma escolha clássica e eficiente.\n",
    "- É rápida de treinar e fornece **probabilidades**, úteis para triagem (priorizar casos mais prováveis de alto risco).\n",
    "- Árvores de decisão podem superajustar em textos curtos; SVM e Naive Bayes também são boas alternativas, mas mantemos a RL pela **simplicidade, desempenho e interpretabilidade**.\n"
   ]
  },
  {
   "cell_type": "code",
   "execution_count": 31,
   "id": "aa099c9b",
   "metadata": {},
   "outputs": [
    {
     "name": "stdout",
     "output_type": "stream",
     "text": [
      "Acurácia: 0.400\n",
      "\n",
      "Relatório de classificação:\n",
      "              precision    recall  f1-score   support\n",
      "\n",
      "  alto risco      0.667     0.333     0.444         6\n",
      " baixo risco      0.333     0.500     0.400         4\n",
      " médio risco      0.333     0.400     0.364         5\n",
      "\n",
      "    accuracy                          0.400        15\n",
      "   macro avg      0.444     0.411     0.403        15\n",
      "weighted avg      0.467     0.400     0.406        15\n",
      "\n"
     ]
    }
   ],
   "source": [
    "\n",
    "model = LogisticRegression(max_iter=1000, random_state=RANDOM_STATE)\n",
    "model.fit(X_train, y_train)\n",
    "\n",
    "# Predições e probabilidades\n",
    "y_pred = model.predict(X_test)\n",
    "\n",
    "# Índice da classe 'alto risco' no vetor de probabilidades\n",
    "idx_alto = list(model.classes_).index(\"alto risco\")\n",
    "y_proba_alto = model.predict_proba(X_test)[:, idx_alto]\n",
    "\n",
    "acc = accuracy_score(y_test, y_pred)\n",
    "print(f\"Acurácia: {acc:.3f}\\n\")\n",
    "print(\"Relatório de classificação:\")\n",
    "print(classification_report(y_test, y_pred, digits=3))\n"
   ]
  },
  {
   "cell_type": "markdown",
   "id": "88a6a28f",
   "metadata": {},
   "source": [
    "\n",
    "## 8) Matriz de Confusão\n",
    "A matriz nos ajuda a entender **acertos** e **erros** por classe.\n"
   ]
  },
  {
   "cell_type": "code",
   "execution_count": 32,
   "id": "2ec59791",
   "metadata": {},
   "outputs": [
    {
     "data": {
      "text/plain": [
       "array([[2, 2, 2],\n",
       "       [0, 2, 2],\n",
       "       [1, 2, 2]])"
      ]
     },
     "execution_count": 32,
     "metadata": {},
     "output_type": "execute_result"
    }
   ],
   "source": [
    "\n",
    "cm = confusion_matrix(y_test, y_pred, labels=model.classes_)\n",
    "cm\n"
   ]
  },
  {
   "cell_type": "code",
   "execution_count": 33,
   "id": "d15603ae",
   "metadata": {},
   "outputs": [
    {
     "data": {
      "image/png": "[encoded data removed]",
      "text/plain": [
       "<Figure size 400x400 with 1 Axes>"
      ]
     },
     "metadata": {},
     "output_type": "display_data"
    }
   ],
   "source": [
    "\n",
    "# Plot simples (sem estilos/cores específicas)\n",
    "fig, ax = plt.subplots(figsize=(4, 4))\n",
    "im = ax.imshow(cm)  # não especificar cmap\n",
    "ax.set_xticks(range(len(model.classes_)))\n",
    "ax.set_yticks(range(len(model.classes_)))\n",
    "ax.set_xticklabels(model.classes_, rotation=45, ha=\"right\")\n",
    "ax.set_yticklabels(model.classes_)\n",
    "\n",
    "# Anotações nos blocos\n",
    "for i in range(cm.shape[0]):\n",
    "    for j in range(cm.shape[1]):\n",
    "        ax.text(j, i, int(cm[i, j]), ha=\"center\", va=\"center\")\n",
    "\n",
    "ax.set_xlabel(\"Previsto\")\n",
    "ax.set_ylabel(\"Verdadeiro\")\n",
    "ax.set_title(\"Matriz de Confusão\")\n",
    "plt.tight_layout()\n",
    "plt.show()\n"
   ]
  },
  {
   "cell_type": "markdown",
   "id": "67eed42b",
   "metadata": {},
   "source": [
    "\n",
    "## 9) (Opcional) ROC‑AUC para “alto risco”\n",
    "Embora acurácia e matriz de confusão sejam o foco, o **ROC‑AUC** fornece uma visão adicional de separação entre classes.\n"
   ]
  },
  {
   "cell_type": "code",
   "execution_count": 34,
   "id": "f5156b9e",
   "metadata": {},
   "outputs": [
    {
     "name": "stdout",
     "output_type": "stream",
     "text": [
      "ROC-AUC (alto risco vs baixo risco): 0.537\n"
     ]
    }
   ],
   "source": [
    "\n",
    "# Binarizar rótulos para 'alto risco' = 1\n",
    "y_test_bin = (y_test == \"alto risco\").astype(int)\n",
    "try:\n",
    "    roc_auc = roc_auc_score(y_test_bin, y_proba_alto)\n",
    "    print(f\"ROC-AUC (alto risco vs baixo risco): {roc_auc:.3f}\")\n",
    "except ValueError as e:\n",
    "    print(\"ROC-AUC não pôde ser calculado:\", e)\n"
   ]
  },
  {
   "cell_type": "markdown",
   "id": "08fc5279",
   "metadata": {},
   "source": [
    "\n",
    "## 10) Inspeção de erros e possíveis padrões\n",
    "Juntamos as frases de teste, rótulos verdadeiros, predições e a probabilidade de **alto risco** para inspecionar **falsos positivos/negativos**.\n"
   ]
  },
  {
   "cell_type": "code",
   "execution_count": 35,
   "id": "df834448",
   "metadata": {},
   "outputs": [
    {
     "name": "stdout",
     "output_type": "stream",
     "text": [
      "Total de erros: 9\n"
     ]
    },
    {
     "data": {
      "text/html": [
       "<div>\n",
       "<style scoped>\n",
       "    .dataframe tbody tr th:only-of-type {\n",
       "        vertical-align: middle;\n",
       "    }\n",
       "\n",
       "    .dataframe tbody tr th {\n",
       "        vertical-align: top;\n",
       "    }\n",
       "\n",
       "    .dataframe thead th {\n",
       "        text-align: right;\n",
       "    }\n",
       "</style>\n",
       "<table border=\"1\" class=\"dataframe\">\n",
       "  <thead>\n",
       "    <tr style=\"text-align: right;\">\n",
       "      <th></th>\n",
       "      <th>frase</th>\n",
       "      <th>verdadeiro</th>\n",
       "      <th>previsto</th>\n",
       "      <th>prob_alto_risco</th>\n",
       "    </tr>\n",
       "  </thead>\n",
       "  <tbody>\n",
       "    <tr>\n",
       "      <th>13</th>\n",
       "      <td>sinto dor aguda no abdômen</td>\n",
       "      <td>alto risco</td>\n",
       "      <td>alto risco</td>\n",
       "      <td>0.458761</td>\n",
       "    </tr>\n",
       "    <tr>\n",
       "      <th>0</th>\n",
       "      <td>sinto falta de apetite há dias</td>\n",
       "      <td>médio risco</td>\n",
       "      <td>alto risco</td>\n",
       "      <td>0.412318</td>\n",
       "    </tr>\n",
       "    <tr>\n",
       "      <th>5</th>\n",
       "      <td>sinto dor de ouvido</td>\n",
       "      <td>médio risco</td>\n",
       "      <td>médio risco</td>\n",
       "      <td>0.401795</td>\n",
       "    </tr>\n",
       "    <tr>\n",
       "      <th>3</th>\n",
       "      <td>tive um desmaio ontem</td>\n",
       "      <td>alto risco</td>\n",
       "      <td>alto risco</td>\n",
       "      <td>0.352241</td>\n",
       "    </tr>\n",
       "    <tr>\n",
       "      <th>7</th>\n",
       "      <td>minhas pernas estão inchadas</td>\n",
       "      <td>alto risco</td>\n",
       "      <td>médio risco</td>\n",
       "      <td>0.340686</td>\n",
       "    </tr>\n",
       "    <tr>\n",
       "      <th>12</th>\n",
       "      <td>acordei com dor de cabeça leve</td>\n",
       "      <td>baixo risco</td>\n",
       "      <td>médio risco</td>\n",
       "      <td>0.321374</td>\n",
       "    </tr>\n",
       "    <tr>\n",
       "      <th>8</th>\n",
       "      <td>tive um leve resfriado</td>\n",
       "      <td>baixo risco</td>\n",
       "      <td>baixo risco</td>\n",
       "      <td>0.299967</td>\n",
       "    </tr>\n",
       "    <tr>\n",
       "      <th>9</th>\n",
       "      <td>tive um leve incômodo nas costas</td>\n",
       "      <td>baixo risco</td>\n",
       "      <td>baixo risco</td>\n",
       "      <td>0.292842</td>\n",
       "    </tr>\n",
       "    <tr>\n",
       "      <th>2</th>\n",
       "      <td>meu pulso está irregular</td>\n",
       "      <td>alto risco</td>\n",
       "      <td>médio risco</td>\n",
       "      <td>0.291705</td>\n",
       "    </tr>\n",
       "    <tr>\n",
       "      <th>10</th>\n",
       "      <td>meu nariz está entupido</td>\n",
       "      <td>baixo risco</td>\n",
       "      <td>médio risco</td>\n",
       "      <td>0.291705</td>\n",
       "    </tr>\n",
       "  </tbody>\n",
       "</table>\n",
       "</div>"
      ],
      "text/plain": [
       "                               frase   verdadeiro     previsto  \\\n",
       "13        sinto dor aguda no abdômen   alto risco   alto risco   \n",
       "0     sinto falta de apetite há dias  médio risco   alto risco   \n",
       "5                sinto dor de ouvido  médio risco  médio risco   \n",
       "3              tive um desmaio ontem   alto risco   alto risco   \n",
       "7       minhas pernas estão inchadas   alto risco  médio risco   \n",
       "12    acordei com dor de cabeça leve  baixo risco  médio risco   \n",
       "8             tive um leve resfriado  baixo risco  baixo risco   \n",
       "9   tive um leve incômodo nas costas  baixo risco  baixo risco   \n",
       "2           meu pulso está irregular   alto risco  médio risco   \n",
       "10           meu nariz está entupido  baixo risco  médio risco   \n",
       "\n",
       "    prob_alto_risco  \n",
       "13         0.458761  \n",
       "0          0.412318  \n",
       "5          0.401795  \n",
       "3          0.352241  \n",
       "7          0.340686  \n",
       "12         0.321374  \n",
       "8          0.299967  \n",
       "9          0.292842  \n",
       "2          0.291705  \n",
       "10         0.291705  "
      ]
     },
     "execution_count": 35,
     "metadata": {},
     "output_type": "execute_result"
    }
   ],
   "source": [
    "\n",
    "resultados = pd.DataFrame({\n",
    "    \"frase\": X_test_text.values,\n",
    "    \"verdadeiro\": y_test.values,\n",
    "    \"previsto\": y_pred,\n",
    "    \"prob_alto_risco\": y_proba_alto\n",
    "})\n",
    "\n",
    "# Erros\n",
    "erros = resultados[resultados[\"verdadeiro\"] != resultados[\"previsto\"]]\n",
    "print(\"Total de erros:\", len(erros))\n",
    "resultados.sort_values(\"prob_alto_risco\", ascending=False).head(10)\n"
   ]
  },
  {
   "cell_type": "code",
   "execution_count": 36,
   "id": "7a60b7ff",
   "metadata": {},
   "outputs": [
    {
     "data": {
      "text/html": [
       "<div>\n",
       "<style scoped>\n",
       "    .dataframe tbody tr th:only-of-type {\n",
       "        vertical-align: middle;\n",
       "    }\n",
       "\n",
       "    .dataframe tbody tr th {\n",
       "        vertical-align: top;\n",
       "    }\n",
       "\n",
       "    .dataframe thead th {\n",
       "        text-align: right;\n",
       "    }\n",
       "</style>\n",
       "<table border=\"1\" class=\"dataframe\">\n",
       "  <thead>\n",
       "    <tr style=\"text-align: right;\">\n",
       "      <th></th>\n",
       "      <th>frase</th>\n",
       "      <th>verdadeiro</th>\n",
       "      <th>previsto</th>\n",
       "      <th>prob_alto_risco</th>\n",
       "    </tr>\n",
       "  </thead>\n",
       "  <tbody>\n",
       "    <tr>\n",
       "      <th>0</th>\n",
       "      <td>sinto falta de apetite há dias</td>\n",
       "      <td>médio risco</td>\n",
       "      <td>alto risco</td>\n",
       "      <td>0.412318</td>\n",
       "    </tr>\n",
       "    <tr>\n",
       "      <th>1</th>\n",
       "      <td>tenho dor forte nas costas</td>\n",
       "      <td>médio risco</td>\n",
       "      <td>baixo risco</td>\n",
       "      <td>0.241051</td>\n",
       "    </tr>\n",
       "    <tr>\n",
       "      <th>2</th>\n",
       "      <td>meu pulso está irregular</td>\n",
       "      <td>alto risco</td>\n",
       "      <td>médio risco</td>\n",
       "      <td>0.291705</td>\n",
       "    </tr>\n",
       "    <tr>\n",
       "      <th>6</th>\n",
       "      <td>tenho uma ferida que não cicatriza</td>\n",
       "      <td>alto risco</td>\n",
       "      <td>baixo risco</td>\n",
       "      <td>0.254028</td>\n",
       "    </tr>\n",
       "    <tr>\n",
       "      <th>7</th>\n",
       "      <td>minhas pernas estão inchadas</td>\n",
       "      <td>alto risco</td>\n",
       "      <td>médio risco</td>\n",
       "      <td>0.340686</td>\n",
       "    </tr>\n",
       "    <tr>\n",
       "      <th>10</th>\n",
       "      <td>meu nariz está entupido</td>\n",
       "      <td>baixo risco</td>\n",
       "      <td>médio risco</td>\n",
       "      <td>0.291705</td>\n",
       "    </tr>\n",
       "    <tr>\n",
       "      <th>11</th>\n",
       "      <td>tenho dificuldade para engolir</td>\n",
       "      <td>alto risco</td>\n",
       "      <td>baixo risco</td>\n",
       "      <td>0.216210</td>\n",
       "    </tr>\n",
       "    <tr>\n",
       "      <th>12</th>\n",
       "      <td>acordei com dor de cabeça leve</td>\n",
       "      <td>baixo risco</td>\n",
       "      <td>médio risco</td>\n",
       "      <td>0.321374</td>\n",
       "    </tr>\n",
       "    <tr>\n",
       "      <th>14</th>\n",
       "      <td>tenho tosse seca persistente</td>\n",
       "      <td>médio risco</td>\n",
       "      <td>baixo risco</td>\n",
       "      <td>0.216210</td>\n",
       "    </tr>\n",
       "  </tbody>\n",
       "</table>\n",
       "</div>"
      ],
      "text/plain": [
       "                                 frase   verdadeiro     previsto  \\\n",
       "0       sinto falta de apetite há dias  médio risco   alto risco   \n",
       "1           tenho dor forte nas costas  médio risco  baixo risco   \n",
       "2             meu pulso está irregular   alto risco  médio risco   \n",
       "6   tenho uma ferida que não cicatriza   alto risco  baixo risco   \n",
       "7         minhas pernas estão inchadas   alto risco  médio risco   \n",
       "10             meu nariz está entupido  baixo risco  médio risco   \n",
       "11      tenho dificuldade para engolir   alto risco  baixo risco   \n",
       "12      acordei com dor de cabeça leve  baixo risco  médio risco   \n",
       "14        tenho tosse seca persistente  médio risco  baixo risco   \n",
       "\n",
       "    prob_alto_risco  \n",
       "0          0.412318  \n",
       "1          0.241051  \n",
       "2          0.291705  \n",
       "6          0.254028  \n",
       "7          0.340686  \n",
       "10         0.291705  \n",
       "11         0.216210  \n",
       "12         0.321374  \n",
       "14         0.216210  "
      ]
     },
     "execution_count": 36,
     "metadata": {},
     "output_type": "execute_result"
    }
   ],
   "source": [
    "\n",
    "# Visualizar apenas os erros (se houver)\n",
    "erros if len(erros) else resultados.head(5)\n"
   ]
  },
  {
   "cell_type": "markdown",
   "id": "4ed06bb9",
   "metadata": {},
   "source": [
    "\n",
    "## 11) Testes com frases novas (exemplos)\n"
   ]
  },
  {
   "cell_type": "code",
   "execution_count": 37,
   "id": "3ec5c2fa",
   "metadata": {},
   "outputs": [
    {
     "name": "stdout",
     "output_type": "stream",
     "text": [
      "\"sinto dor no peito e falta de ar\" -> alto risco (prob_alto_risco=0.57)\n",
      "\"tive uma leve dor de cabeça\" -> baixo risco (prob_alto_risco=0.28)\n",
      "\"vômito com sangue\" -> alto risco (prob_alto_risco=0.42)\n",
      "\"pressão no peito ao subir escadas\" -> alto risco (prob_alto_risco=0.51)\n"
     ]
    }
   ],
   "source": [
    "\n",
    "novas_frases = [\n",
    "    \"sinto dor no peito e falta de ar\",\n",
    "    \"tive uma leve dor de cabeça\",\n",
    "    \"vômito com sangue\",\n",
    "    \"pressão no peito ao subir escadas\",\n",
    "]\n",
    "\n",
    "X_new = vectorizer.transform(novas_frases)\n",
    "pred_new = model.predict(X_new)\n",
    "proba_new = model.predict_proba(X_new)[:, idx_alto]\n",
    "\n",
    "for frase, pred, p in zip(novas_frases, pred_new, proba_new):\n",
    "    print(f'\"{frase}\" -> {pred} (prob_alto_risco={p:.2f})')\n"
   ]
  },
  {
   "cell_type": "markdown",
   "id": "a0e2d62d",
   "metadata": {},
   "source": [
    "\n",
    "## 12) (Opcional) Salvar modelo e vetorizador\n",
    "Caso queira reutilizar o classificador sem re-treinar.\n"
   ]
  },
  {
   "cell_type": "code",
   "execution_count": null,
   "id": "aea5fb02",
   "metadata": {},
   "outputs": [],
   "source": [
    "\n",
    "# from joblib import dump\n",
    "# dump(model, \"modelo_triagem_logreg.pkl\")\n",
    "# dump(vectorizer, \"tfidf_vectorizer.pkl\")\n",
    "# print(\"Artefatos salvos no diretório do notebook.\")\n"
   ]
  },
  {
   "cell_type": "markdown",
   "id": "331a49b4",
   "metadata": {},
   "source": [
    "\n",
    "## 13) Conclusões e próximos passos\n",
    "- **Tamanho/qualidade do dataset** impacta fortemente o desempenho — em uma aplicação real, precisamos incluir mais mais exemplos diversos.\n",
    "- Considerar **balancear classes** (ex.: `class_weight='balanced'` na Regressão Logística) quando houver desbalanceamento, o que não foi o caso aqui, mas pode ser necessário em bases reais.\n",
    "- Avaliar alternativas como **Naive Bayes** e **SVM** para comparação. Como o enunciado da atividade não pede uma comparação direta entre diferentes modelos, optamos por não fazer, mas esse seria um passo extra interessante, a fim de avaliar como cada modelo desempenharia nesse mesmo cenário.\n"
   ]
  }
 ],
 "metadata": {
  "kernelspec": {
   "display_name": "venv",
   "language": "python",
   "name": "python3"
  },
  "language_info": {
   "codemirror_mode": {
    "name": "ipython",
    "version": 3
   },
   "file_extension": ".py",
   "mimetype": "text/x-python",
   "name": "python",
   "nbconvert_exporter": "python",
   "pygments_lexer": "ipython3",
   "version": "3.13.7"
  }
 },
 "nbformat": 4,
 "nbformat_minor": 5
}
